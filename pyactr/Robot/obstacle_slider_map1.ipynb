{
 "cells": [
  {
   "cell_type": "code",
   "execution_count": 1,
   "metadata": {},
   "outputs": [],
   "source": [
    "import pyactr as actr\n",
    "\n",
    "robot_mind   = actr.ACTRModel()\n"
   ]
  },
  {
   "cell_type": "code",
   "execution_count": 2,
   "metadata": {},
   "outputs": [],
   "source": [
    "dm_module=robot_mind.decmem \n",
    "goal_buffer=robot_mind.goal\n",
    "rtrv_buffer=robot_mind.retrieval\n"
   ]
  },
  {
   "cell_type": "markdown",
   "metadata": {},
   "source": [
    "# Assumption - Robot knows the world and it is stored in declarative memory\n",
    "- We consider world to be 3 x 15 grid,\n",
    "- Robot will start moving in the second column, whenever there is an obstacle the robot will push the obstacle to either side.\n",
    "- if obstacle slide is not possible, it will pick up and place it in behind cell.\n",
    "- lets call only second column of the world as cells. \n",
    "## chunk definitions\n",
    "\n"
   ]
  },
  {
   "cell_type": "code",
   "execution_count": 3,
   "metadata": {},
   "outputs": [],
   "source": [
    "actr.chunktype(\"world_cell\", \"name, left, right, block, next\")# to be strored in declarative memory\n",
    "actr.chunktype(\"goal_chunk\", \"start, end, current_pos, nxt_pos,status , state\")\n",
    "actr.chunktype(\"intrnl_rep\",\"object, left, right\")"
   ]
  },
  {
   "cell_type": "markdown",
   "metadata": {},
   "source": [
    "## make world chunks"
   ]
  },
  {
   "cell_type": "code",
   "execution_count": 4,
   "metadata": {},
   "outputs": [],
   "source": [
    "cell1 = actr.makechunk(nameofchunk='w1',typename='world_cell',\n",
    "                       name=1,block=False,left=False,right=False,next=2)\n",
    "cell2 = actr.makechunk(nameofchunk='w2',typename='world_cell',\n",
    "                       name=2,block=True,left=False,right=False,next=3)\n",
    "cell3 = actr.makechunk(nameofchunk='w3',typename='world_cell',\n",
    "                       name=3,block=True,left=True,right=False,next=4)\n",
    "cell4 = actr.makechunk(nameofchunk='w4',typename='world_cell',\n",
    "                       name=4,block=True,left=True,right=True,next=5)\n",
    "cell5 = actr.makechunk(nameofchunk='w5',typename='world_cell',\n",
    "                       name=5,block=True,left=True,right=True,next=None)"
   ]
  },
  {
   "cell_type": "code",
   "execution_count": 5,
   "metadata": {},
   "outputs": [],
   "source": [
    "dm_module.add(cell1)\n",
    "dm_module.add(cell2)\n",
    "dm_module.add(cell3)\n",
    "dm_module.add(cell4)\n",
    "dm_module.add(cell5)\n"
   ]
  },
  {
   "cell_type": "code",
   "execution_count": 6,
   "metadata": {},
   "outputs": [
    {
     "data": {
      "text/plain": [
       "{world_cell(block= False, left= False, name= 1, next= 2, right= False): array([0.]), world_cell(block= True, left= False, name= 2, next= 3, right= False): array([0.]), world_cell(block= True, left= True, name= 3, next= 4, right= False): array([0.]), world_cell(block= True, left= True, name= 4, next= 5, right= True): array([0.]), world_cell(block= True, left= True, name= 5, next= None, right= True): array([0.])}"
      ]
     },
     "execution_count": 6,
     "metadata": {},
     "output_type": "execute_result"
    }
   ],
   "source": [
    "dm_module"
   ]
  },
  {
   "cell_type": "markdown",
   "metadata": {},
   "source": [
    "# creating goal buffer"
   ]
  },
  {
   "cell_type": "code",
   "execution_count": 7,
   "metadata": {},
   "outputs": [],
   "source": [
    "#creating goal buffer\n",
    "goal_buffer.add(actr.chunkstring(string=\"\"\"\n",
    "    isa     goal_chunk\n",
    "    start   1\n",
    "    end     5\n",
    "    current_pos 1\n",
    "    nxt_pos     2\n",
    "    state INITIAL\n",
    "    status FREE\n",
    "\n",
    "\"\"\"))"
   ]
  },
  {
   "cell_type": "code",
   "execution_count": 8,
   "metadata": {},
   "outputs": [
    {
     "data": {
      "text/plain": [
       "{goal_chunk(current_pos= 1, end= 5, nxt_pos= 2, start= 1, state= INITIAL, status= FREE)}"
      ]
     },
     "execution_count": 8,
     "metadata": {},
     "output_type": "execute_result"
    }
   ],
   "source": [
    "goal_buffer"
   ]
  },
  {
   "cell_type": "markdown",
   "metadata": {},
   "source": [
    "# production rules follow; using productionstring, "
   ]
  },
  {
   "cell_type": "code",
   "execution_count": 9,
   "metadata": {},
   "outputs": [
    {
     "data": {
      "text/plain": [
       "{'=g': goal_chunk(current_pos= =x, end= , nxt_pos= =y, start= , state= MAKE_DECISION, status= LOAD)}\n",
       "==>\n",
       "{'!g': ParseResults([ParseResults(['show', \"'Turn around @'\"], {}), ParseResults(['show', 'current_pos'], {}), ParseResults(['show', \"'release load, and Turn around @'\"], {}), ParseResults(['show', 'current_pos'], {})], {}), '=g': goal_chunk(current_pos= , end= , nxt_pos= , start= , state= , status= FREE)}"
      ]
     },
     "execution_count": 9,
     "metadata": {},
     "output_type": "execute_result"
    }
   ],
   "source": [
    "### Initialise\n",
    "robot_mind.productionstring(name=\"Start\", string=\"\"\"\n",
    "    =g>\n",
    "    isa     goal_chunk\n",
    "    state   INITIAL\n",
    "    start   =x\n",
    "    current_pos =x\n",
    "    nxt_pos =y\n",
    "    status  FREE\n",
    "    ==>\n",
    "    =g>\n",
    "    isa     goal_chunk\n",
    "    state   SHOW                        \n",
    "    +retrieval>\n",
    "    isa world_cell\n",
    "    name   =y\n",
    "   \n",
    "\"\"\")\n",
    "\n",
    "####stop decision\n",
    "robot_mind.productionstring(name=\"stop\", string=\"\"\"\n",
    "    =g>\n",
    "    isa     goal_chunk\n",
    "    current_pos   =x\n",
    "    end     =x\n",
    "    status FREE\n",
    "    ==>\n",
    "    !g>\n",
    "    \n",
    "    show done\n",
    "    ~g>\n",
    "\"\"\")\n",
    "###show current position\n",
    "robot_mind.productionstring(name='show',string=\"\"\"\n",
    "    =g>\n",
    "    isa goal_chunk\n",
    "    state SHOW\n",
    "    ==>\n",
    "    !g>\n",
    "    show current_pos\n",
    "    =g>\n",
    "    isa goal_chunk\n",
    "    state MAKE_DECISION\n",
    "                            \n",
    "                            \"\"\")\n",
    "\n",
    "###move to cell, this operation directly fetches next cell data ater moving\n",
    "robot_mind.productionstring(name=\"move\", string=\"\"\"\n",
    "    =g>\n",
    "    isa     goal_chunk\n",
    "    state   MOVE    \n",
    "    current_pos   =x\n",
    "    end ~=x\n",
    "    nxt_pos       =y\n",
    "    =retrieval>\n",
    "    isa world_cell\n",
    "    name =y\n",
    "    next =z\n",
    "    ==>\n",
    "    \n",
    "    =g>\n",
    "    isa     goal_chunk\n",
    "    current_pos   =y\n",
    "    nxt_pos       =z\n",
    "    state SHOW\n",
    "    \n",
    "    +retrieval>\n",
    "    isa world_cell\n",
    "    name   =z\n",
    "\"\"\")\n",
    "\n",
    "### goal STATE is MAKE DECISOIN  , ask robot to whether to move forwards or slide othe obstacle\n",
    "robot_mind.productionstring(name=\"MAKE_DECISION_no_obstacle\", string=\"\"\"\n",
    "    =g>\n",
    "    isa     goal_chunk\n",
    "    state   MAKE_DECISION\n",
    "    status FREE\n",
    "    current_pos   =x\n",
    "    nxt_pos       =y\n",
    "    =retrieval>\n",
    "    isa world_cell\n",
    "    name =y\n",
    "    next =z\n",
    "    block False \n",
    "                    \n",
    "    ==>\n",
    "    =g>\n",
    "    isa     goal_chunk\n",
    "    state MOVE\n",
    "\"\"\")\n",
    "\n",
    "### goal STATE is MAKE DECISOIN  , ask robot to whether to move forwards or slide othe obstacle\n",
    "robot_mind.productionstring(name=\"MAKE_DECISION_obstacle_lf_rf\", string=\"\"\"\n",
    "    =g>\n",
    "    isa     goal_chunk\n",
    "    state   MAKE_DECISION\n",
    "    status FREE\n",
    "    current_pos   =x\n",
    "    nxt_pos       =y\n",
    "    =retrieval>\n",
    "    isa world_cell\n",
    "    name =y\n",
    "    next =z\n",
    "    block True\n",
    "    left  False\n",
    "    right False\n",
    "\n",
    "                    \n",
    "    ==>\n",
    "    !g>\n",
    "    show 'push block left @' \n",
    "    show nxt_pos \n",
    "    =g>\n",
    "    isa     goal_chunk\n",
    "    state MOVE\n",
    "\"\"\")\n",
    "\n",
    "### goal STATE is MAKE DECISOIN  , ask robot to whether to move forwards or slide othe obstacle\n",
    "robot_mind.productionstring(name=\"MAKE_DECISION_obstacle_l_or_rf\", string=\"\"\"\n",
    "    =g>\n",
    "    isa     goal_chunk\n",
    "    state   MAKE_DECISION\n",
    "    status FREE\n",
    "    current_pos   =x\n",
    "    nxt_pos       =y\n",
    "    =retrieval>\n",
    "    isa world_cell\n",
    "    name =y\n",
    "    next =z\n",
    "    block True\n",
    "    left  =flag\n",
    "    right ~=flag\n",
    "\n",
    "                    \n",
    "    ==>\n",
    "    !g>\n",
    "    show 'push block to free side @' \n",
    "    show nxt_pos \n",
    "    =g>\n",
    "    isa     goal_chunk\n",
    "    state MOVE\n",
    "\"\"\")\n",
    "### goal STATE is MAKE DECISOIN  , ask robot to whether to move forwards or slide othe obstacle\n",
    "robot_mind.productionstring(name=\"MAKE_DECISION_pickup\", string=\"\"\"\n",
    "    =g>\n",
    "    isa     goal_chunk\n",
    "    state   MAKE_DECISION\n",
    "    status FREE\n",
    "    current_pos   =x\n",
    "    nxt_pos       =y\n",
    "    =retrieval>\n",
    "    isa world_cell\n",
    "    name =y\n",
    "    next =z\n",
    "    block True\n",
    "    left  True\n",
    "    right True\n",
    "\n",
    "                    \n",
    "    ==>\n",
    "    !g>\n",
    "    show 'pick obstacle @' \n",
    "    show nxt_pos \n",
    "    =g>\n",
    "    isa     goal_chunk\n",
    "    state MOVE\n",
    "    status LOAD\n",
    "    \n",
    "\"\"\")\n",
    "\n",
    "\n",
    "### goal STATE is MAKE DECISOIN  , ask robot to whether to move forwards or slide othe obstacle\n",
    "robot_mind.productionstring(name=\"MAKE_DECISION_release\", string=\"\"\"\n",
    "    =g>\n",
    "    isa     goal_chunk\n",
    "    state   MAKE_DECISION\n",
    "    status  LOAD\n",
    "    current_pos  =x\n",
    "    nxt_pos       =y\n",
    "                        \n",
    "    ==>\n",
    "    !g>\n",
    "    show 'Turn around @' \n",
    "    show current_pos\n",
    "    show 'release load, and Turn around @'\n",
    "    show current_pos\n",
    "    =g>\n",
    "    isa     goal_chunk\n",
    "    status FREE\n",
    "\"\"\")\n",
    "\n"
   ]
  },
  {
   "cell_type": "code",
   "execution_count": 10,
   "metadata": {},
   "outputs": [
    {
     "name": "stdout",
     "output_type": "stream",
     "text": [
      "current_pos 1\n",
      "'push block left @'\n",
      "nxt_pos 2\n",
      "current_pos 2\n",
      "'push block to free side @'\n",
      "nxt_pos 3\n",
      "current_pos 3\n",
      "'pick obstacle @'\n",
      "nxt_pos 4\n",
      "current_pos 4\n",
      "'Turn around @'\n",
      "current_pos 4\n",
      "'release load, and Turn around @'\n",
      "current_pos 4\n",
      "'pick obstacle @'\n",
      "nxt_pos 5\n",
      "current_pos 5\n",
      "'Turn around @'\n",
      "current_pos 5\n",
      "'release load, and Turn around @'\n",
      "current_pos 5\n",
      "done\n"
     ]
    }
   ],
   "source": [
    "#creating goal buffer\n",
    "goal_buffer.add(actr.chunkstring(string=\"\"\"\n",
    "    isa     goal_chunk\n",
    "    start   1\n",
    "    end     5\n",
    "    current_pos 1\n",
    "    nxt_pos     2\n",
    "    state INITIAL\n",
    "    status FREE\n",
    "\n",
    "\"\"\"))\n",
    "robot_sim=robot_mind.simulation(trace=False)\n",
    "robot_sim.run()"
   ]
  },
  {
   "cell_type": "code",
   "execution_count": 11,
   "metadata": {},
   "outputs": [
    {
     "name": "stdout",
     "output_type": "stream",
     "text": [
      "Object `robot_mind.run` not found.\n"
     ]
    }
   ],
   "source": [
    "robot_mind.run?"
   ]
  },
  {
   "cell_type": "code",
   "execution_count": null,
   "metadata": {},
   "outputs": [],
   "source": []
  }
 ],
 "metadata": {
  "kernelspec": {
   "display_name": "actr",
   "language": "python",
   "name": "python3"
  },
  "language_info": {
   "codemirror_mode": {
    "name": "ipython",
    "version": 3
   },
   "file_extension": ".py",
   "mimetype": "text/x-python",
   "name": "python",
   "nbconvert_exporter": "python",
   "pygments_lexer": "ipython3",
   "version": "3.11.4"
  },
  "orig_nbformat": 4
 },
 "nbformat": 4,
 "nbformat_minor": 2
}
